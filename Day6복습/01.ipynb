{
 "cells": [
  {
   "cell_type": "markdown",
   "metadata": {},
   "source": [
    "### 리트코드 DFS / BFS 실습"
   ]
  },
  {
   "cell_type": "markdown",
   "metadata": {},
   "source": [
    "#### 리트코드 - 46. Permutations (순열)\n",
    "nums고유한 정수 배열이 주어지면 가능한 모든 순열을 반환합니다. \\\n",
    "어떤 순서 로든 답변을 반환할 수 있습니다. \\\n",
    "예시 1:\n",
    "입력: nums = [1,2,3]\n",
    "출력: [[1,2,3],[1,3,2],[2,1,3],[2,3,1],[3,1 ,2],[3,2,1]]\n",
    "\n",
    "예 2:\n",
    "입력: 숫자 = [0,1]\n",
    "출력: [[0,1],[1,0]]\n",
    "\n",
    "예시 3:\n",
    "입력: nums = [1]\n",
    "출력: [[1]]"
   ]
  },
  {
   "cell_type": "code",
   "execution_count": 9,
   "metadata": {},
   "outputs": [
    {
     "name": "stdout",
     "output_type": "stream",
     "text": [
      "dfs 진입: 여태까지 조합 [], 남은 조합\n",
      "dfs 진입: 여태까지 조합 [1], 남은 조합\n",
      "dfs 진입: 여태까지 조합 [1, 2], 남은 조합\n",
      "dfs 진입: 여태까지 조합 [1, 2, 3], 남은 조합\n",
      "[] result에 [1, 2, 3] 추가\n",
      "dfs([3]), [1, 2] 마지막 원소 삭제\n",
      "dfs([2, 3]), [1] 마지막 원소 삭제\n",
      "dfs 진입: 여태까지 조합 [1, 3], 남은 조합\n",
      "dfs 진입: 여태까지 조합 [1, 3, 2], 남은 조합\n",
      "[] result에 [1, 3, 2] 추가\n",
      "dfs([2]), [1, 3] 마지막 원소 삭제\n",
      "dfs([2, 3]), [1] 마지막 원소 삭제\n",
      "dfs([1, 2, 3]), [] 마지막 원소 삭제\n",
      "dfs 진입: 여태까지 조합 [2], 남은 조합\n",
      "dfs 진입: 여태까지 조합 [2, 1], 남은 조합\n",
      "dfs 진입: 여태까지 조합 [2, 1, 3], 남은 조합\n",
      "[] result에 [2, 1, 3] 추가\n",
      "dfs([3]), [2, 1] 마지막 원소 삭제\n",
      "dfs([1, 3]), [2] 마지막 원소 삭제\n",
      "dfs 진입: 여태까지 조합 [2, 3], 남은 조합\n",
      "dfs 진입: 여태까지 조합 [2, 3, 1], 남은 조합\n",
      "[] result에 [2, 3, 1] 추가\n",
      "dfs([1]), [2, 3] 마지막 원소 삭제\n",
      "dfs([1, 3]), [2] 마지막 원소 삭제\n",
      "dfs([1, 2, 3]), [] 마지막 원소 삭제\n",
      "dfs 진입: 여태까지 조합 [3], 남은 조합\n",
      "dfs 진입: 여태까지 조합 [3, 1], 남은 조합\n",
      "dfs 진입: 여태까지 조합 [3, 1, 2], 남은 조합\n",
      "[] result에 [3, 1, 2] 추가\n",
      "dfs([2]), [3, 1] 마지막 원소 삭제\n",
      "dfs([1, 2]), [3] 마지막 원소 삭제\n",
      "dfs 진입: 여태까지 조합 [3, 2], 남은 조합\n",
      "dfs 진입: 여태까지 조합 [3, 2, 1], 남은 조합\n",
      "[] result에 [3, 2, 1] 추가\n",
      "dfs([1]), [3, 2] 마지막 원소 삭제\n",
      "dfs([1, 2]), [3] 마지막 원소 삭제\n",
      "dfs([1, 2, 3]), [] 마지막 원소 삭제\n",
      "[[1, 2, 3], [1, 3, 2], [2, 1, 3], [2, 3, 1], [3, 1, 2], [3, 2, 1]]\n"
     ]
    }
   ],
   "source": [
    "# dfs\n",
    "# discovered: 탐색경로 (결과)\n",
    "# 재귀 호출 or 스택(stack) 탐색할 노드들\n",
    "\n",
    "# dfs([1, 2, 3]) - 부모\n",
    "# dfs([1, 2], 3) - 1차\n",
    "# dfs([1], 2, 3) - 2차\n",
    "# dfs([]), [3, 2, 1] -> result = [[3, 2, 1]] - 3차\n",
    "# dfs([2]), [3, 1] -> 2차\n",
    "# dfs([]), [3, 2, 1] -> 3차\n",
    "# dfs([1, 3]), [2] -> 1차\n",
    "from typing import List\n",
    "class Solution:\n",
    "    def permute(self, nums):\n",
    "        result = []\n",
    "        prev_elements = []\n",
    "\n",
    "        def dfs(elements):\n",
    "            print(f'dfs 진입: 여태까지 조합 {prev_elements}, 남은 조합')\n",
    "            if len(elements) == 0:\n",
    "                print(f'{elements} result에 {prev_elements} 추가')\n",
    "                result.append(prev_elements[:])  # 값 복사 추가\n",
    "\n",
    "            # dfs([1, 2, 3]) -> dfs([1, 2]), [3] 새로운 함수\n",
    "            for e in elements:\n",
    "                # elements 값을 복사\n",
    "                next_element = elements[:]\n",
    "                # remove 연산 O(n)\n",
    "                next_element.remove(e)  # next_elements = [1, 2]\n",
    "                prev_elements.append(e)  \n",
    "                \n",
    "                dfs(next_element)\n",
    "                prev_elements.pop()\n",
    "                print(f'dfs({elements}), {prev_elements} 마지막 원소 삭제')\n",
    "        dfs(nums)    \n",
    "        return result\n",
    "    \n",
    "Solution = Solution()\n",
    "result = Solution.permute([1, 2, 3])\n",
    "print(result)"
   ]
  },
  {
   "cell_type": "code",
   "execution_count": 20,
   "metadata": {},
   "outputs": [
    {
     "name": "stdout",
     "output_type": "stream",
     "text": [
      "stack pop: 여태까지 조합 [], 남은 조합 [1, 2, 3]\n",
      "stack push: [1], 남은 조합 [2, 3]\n",
      "stack push: [2], 남은 조합 [1, 3]\n",
      "stack push: [3], 남은 조합 [1, 2]\n",
      "stack pop: 여태까지 조합 [3], 남은 조합 [1, 2]\n",
      "stack push: [3, 1], 남은 조합 [2]\n",
      "stack push: [3, 2], 남은 조합 [1]\n",
      "stack pop: 여태까지 조합 [3, 2], 남은 조합 [1]\n",
      "stack push: [3, 2, 1], 남은 조합 []\n",
      "stack pop: 여태까지 조합 [3, 2, 1], 남은 조합 []\n",
      "[]가 비었으므로 result에 [3, 2, 1] 추가\n",
      "stack pop: 여태까지 조합 [3, 1], 남은 조합 [2]\n",
      "stack push: [3, 1, 2], 남은 조합 []\n",
      "stack pop: 여태까지 조합 [3, 1, 2], 남은 조합 []\n",
      "[]가 비었으므로 result에 [3, 1, 2] 추가\n",
      "stack pop: 여태까지 조합 [2], 남은 조합 [1, 3]\n",
      "stack push: [2, 1], 남은 조합 [3]\n",
      "stack push: [2, 3], 남은 조합 [1]\n",
      "stack pop: 여태까지 조합 [2, 3], 남은 조합 [1]\n",
      "stack push: [2, 3, 1], 남은 조합 []\n",
      "stack pop: 여태까지 조합 [2, 3, 1], 남은 조합 []\n",
      "[]가 비었으므로 result에 [2, 3, 1] 추가\n",
      "stack pop: 여태까지 조합 [2, 1], 남은 조합 [3]\n",
      "stack push: [2, 1, 3], 남은 조합 []\n",
      "stack pop: 여태까지 조합 [2, 1, 3], 남은 조합 []\n",
      "[]가 비었으므로 result에 [2, 1, 3] 추가\n",
      "stack pop: 여태까지 조합 [1], 남은 조합 [2, 3]\n",
      "stack push: [1, 2], 남은 조합 [3]\n",
      "stack push: [1, 3], 남은 조합 [2]\n",
      "stack pop: 여태까지 조합 [1, 3], 남은 조합 [2]\n",
      "stack push: [1, 3, 2], 남은 조합 []\n",
      "stack pop: 여태까지 조합 [1, 3, 2], 남은 조합 []\n",
      "[]가 비었으므로 result에 [1, 3, 2] 추가\n",
      "stack pop: 여태까지 조합 [1, 2], 남은 조합 [3]\n",
      "stack push: [1, 2, 3], 남은 조합 []\n",
      "stack pop: 여태까지 조합 [1, 2, 3], 남은 조합 []\n",
      "[]가 비었으므로 result에 [1, 2, 3] 추가\n",
      "[[3, 2, 1], [3, 1, 2], [2, 3, 1], [2, 1, 3], [1, 3, 2], [1, 2, 3]]\n"
     ]
    }
   ],
   "source": [
    "## 스택으로 변환 ##\n",
    "from typing import List\n",
    "class Solution:\n",
    "    def permute(self, nums: List[int]) -> List[List[int]]:\n",
    "        result = []\n",
    "        stack = [(nums, [])]  # 초기 스택 상태: (남은 요소들, 현재까지의 조합)\n",
    "\n",
    "        while stack:\n",
    "            elements, prev_elements = stack.pop()\n",
    "            print(f'stack pop: 여태까지 조합 {prev_elements}, 남은 조합 {elements}')\n",
    "            if not elements:\n",
    "                print(f'{elements}가 비었으므로 result에 {prev_elements} 추가')\n",
    "                result.append(prev_elements[:])   # 값 복사 추가\n",
    "\n",
    "            for e in elements:\n",
    "                next_elements = elements[:]\n",
    "                next_elements.remove(e)\n",
    "                new_prev_elements = prev_elements + [e]\n",
    "                stack.append((next_elements, new_prev_elements))\n",
    "                print(f'stack push: {new_prev_elements}, 남은 조합 {next_elements}')\n",
    "\n",
    "        return result\n",
    "\n",
    "# Solution 클래스 인스턴스화\n",
    "solution = Solution()\n",
    "\n",
    "# 결과 출력\n",
    "result = solution.permute([1, 2, 3])\n",
    "print(result)"
   ]
  },
  {
   "cell_type": "markdown",
   "metadata": {},
   "source": [
    "#### 리트코드 - 77. Combinations\n",
    "두 개의 정수 n및 가 주어지면 범위에서 선택한 숫자 의 가능한 모든 조합을k 반환합니다. k [1, n] \\\n",
    "예시 1: \\\n",
    "입력: n = 4, k = 2 \\\n",
    "출력: [[1,2],[1,3],[1,4],[2,3],[2,4],[3,4]]\\\n",
    "설명: 4개 선택 2 = 총 6개 조합이 있습니다. \\\n",
    "조합은 순서가 없습니다. 즉, [1,2]와 [2,1]은 동일한 조합으로 간주됩니다.\\\n",
    "\\\n",
    "예 2:\\\n",
    "입력: n = 1, k = 1\\\n",
    "출력: [[1]]\\\n",
    "설명: 1개 선택 1 = 1개의 총 조합이 있습니다."
   ]
  },
  {
   "cell_type": "code",
   "execution_count": 24,
   "metadata": {},
   "outputs": [
    {
     "name": "stdout",
     "output_type": "stream",
     "text": [
      "[[3, 4], [2, 4], [2, 3], [1, 4], [1, 3], [1, 2]]\n"
     ]
    }
   ],
   "source": [
    "class solution:\n",
    "    def combine(self, n, k):\n",
    "        results = []\n",
    "        stack = [(1, [])]\n",
    "\n",
    "        while stack:\n",
    "            start, elements = stack.pop()\n",
    "\n",
    "            # 특정 조건을 만족하면 results 배열에 추가\n",
    "            if len(elements) == k:\n",
    "                results.append(elements[:])\n",
    "                continue  # 밑에 코드로 넘어가지않고 바로 다음 반복을 실행\n",
    "            \n",
    "            # 요소 순환\n",
    "            # stack = [(1, [])], [(2, [1])], [(3, [2])], (4, [3])    \n",
    "            for i in range(start, n+1):  # range(1, 5) 1 2 3 4\n",
    "                stack.append((i + 1, elements + [i]))\n",
    "\n",
    "        return results\n",
    "solution = solution()\n",
    "results = solution.combine(4, 2)\n",
    "print(results)"
   ]
  },
  {
   "cell_type": "markdown",
   "metadata": {},
   "source": [
    "result는 최종결과를 저장할 리스트이고, stack은 초기 스택 상태인데 '1'은 조합에 추가할 수의 시작값이고 \\\n",
    "'[ ]'은 현재까지의 조합입니다. 그리고 stack이 비어있지 않은 동안 반복문을 돌려주고 \\\n",
    "스택이 비어있으면 모든 가능한 조합을 탐색한 것이 됩니다. \\\n",
    "stack 에서 요소들을 꺼내와서 'start'와 'elements' 에 할당합니다. \\\n",
    "여기서 'start'는 다음에 추가할 수의 시작값, 'element'는 현재까지의 조합 인데 \\\n",
    "elements 의 길이가 k와 같다면 element 값을 results 에 추가하고 다음 반복으로 넘어갑니다. \\\n",
    "요소 순환 부분에서는 'start'부터 n+1 까지 숫자들을 반복하며 i 에 넣어주면서 \\\n",
    "(i + 1, elements + [i]) 을 stack 에 추가를 해주는데 여기서 i + 1 은 다음에 추가할 수의 값 이고 \\\n",
    "elements + [i] 는 새로운 조합이다. 그러고 results 값을 반환해준다."
   ]
  },
  {
   "cell_type": "markdown",
   "metadata": {},
   "source": []
  }
 ],
 "metadata": {
  "kernelspec": {
   "display_name": "Python 3",
   "language": "python",
   "name": "python3"
  },
  "language_info": {
   "codemirror_mode": {
    "name": "ipython",
    "version": 3
   },
   "file_extension": ".py",
   "mimetype": "text/x-python",
   "name": "python",
   "nbconvert_exporter": "python",
   "pygments_lexer": "ipython3",
   "version": "3.12.3"
  }
 },
 "nbformat": 4,
 "nbformat_minor": 2
}
