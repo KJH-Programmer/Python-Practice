{
 "cells": [
  {
   "cell_type": "code",
   "execution_count": null,
   "metadata": {},
   "outputs": [],
   "source": [
    "%pip list : grep requests  # requests가 설치되어있는지 확인"
   ]
  },
  {
   "cell_type": "code",
   "execution_count": null,
   "metadata": {},
   "outputs": [],
   "source": [
    "%pip install requests"
   ]
  },
  {
   "cell_type": "code",
   "execution_count": 4,
   "metadata": {},
   "outputs": [],
   "source": [
    "import requests"
   ]
  },
  {
   "cell_type": "code",
   "execution_count": null,
   "metadata": {},
   "outputs": [],
   "source": [
    "# Request 라이브러리\n",
    "import requests\n",
    "\n",
    "url = \"https://www.naver.com/\"\n",
    "response = requests.get(url)\n",
    "\n",
    "# HTTP 응답 상태 코드 확인\n",
    "print(response.status_code)  # 200 (성공)\n",
    "\n",
    "# 응답 본문(HTML 소스) 확인\n",
    "print(response.text)\n"
   ]
  },
  {
   "cell_type": "code",
   "execution_count": null,
   "metadata": {},
   "outputs": [],
   "source": [
    "# Beautiful 라이브러리 설치\n",
    "%pip install beautifulsoup4"
   ]
  },
  {
   "cell_type": "code",
   "execution_count": 7,
   "metadata": {},
   "outputs": [],
   "source": [
    "# Beautiful 라이브러리\n",
    "from bs4 import BeautifulSoup\n",
    "\n",
    "html_content = \"<html><body><h1>Hello, World!</h1></body></html>\"\n",
    "soup = BeautifulSoup(html_content, 'html.parser')"
   ]
  },
  {
   "cell_type": "code",
   "execution_count": 8,
   "metadata": {},
   "outputs": [],
   "source": [
    "# class BeautifulSoup:\n",
    "#     ..\n",
    "#     def find(self, ...,):\n",
    "#     ..\n",
    "\n",
    "# class Tag:\n",
    "#     def __init__(self, text):\n",
    "#         self.text = text"
   ]
  },
  {
   "cell_type": "code",
   "execution_count": 9,
   "metadata": {},
   "outputs": [
    {
     "name": "stdout",
     "output_type": "stream",
     "text": [
      "Hello, World!\n"
     ]
    }
   ],
   "source": [
    "# 특정 요소 찾기\n",
    "heading = soup.find('h1').text  # h1 안에있는 태그를 가져와라\n",
    "print(heading)  # Hello, World!"
   ]
  },
  {
   "cell_type": "code",
   "execution_count": null,
   "metadata": {},
   "outputs": [],
   "source": [
    "html_code = \"\"\"\n",
    "<!DOCTYPE html>\n",
    "<html>\n",
    "<head>\n",
    "    <title>Sample HTML</title>\n",
    "</head>\n",
    "<body>\n",
    "    <h1 id=\"main-title\">Welcome to the Sample Page</h1>\n",
    "    <div class=\"content\">\n",
    "        <p class=\"description\">This is a simple HTML page for Selenium testing.</p>\n",
    "        <ul>\n",
    "            <li class=\"item\">Item 1</li>\n",
    "            <li class=\"item\">Item 2</li>\n",
    "            <li class=\"item\">Item 3</li>\n",
    "        </ul>\n",
    "    </div>\n",
    "    <footer>\n",
    "        <p>Contact us at <a href=\"mailto:example@example.com\">example@example.com</a></p>\n",
    "    </footer>\n",
    "</body>\n",
    "</html>\n",
    "\"\"\"\n",
    "\n",
    "html_code"
   ]
  },
  {
   "cell_type": "code",
   "execution_count": null,
   "metadata": {},
   "outputs": [],
   "source": [
    "soup = BeautifulSoup(html_code, \"html.parser\")\n",
    "soup.text"
   ]
  },
  {
   "cell_type": "code",
   "execution_count": 12,
   "metadata": {},
   "outputs": [
    {
     "data": {
      "text/plain": [
       "<title>Sample HTML</title>"
      ]
     },
     "execution_count": 12,
     "metadata": {},
     "output_type": "execute_result"
    }
   ],
   "source": [
    "soup.find('title')  "
   ]
  },
  {
   "cell_type": "code",
   "execution_count": 13,
   "metadata": {},
   "outputs": [
    {
     "data": {
      "text/plain": [
       "'Sample HTML'"
      ]
     },
     "execution_count": 13,
     "metadata": {},
     "output_type": "execute_result"
    }
   ],
   "source": [
    "soup.find('title').text  # .text 를 하면 양옆에 tap 가 없이 출력됨"
   ]
  },
  {
   "cell_type": "code",
   "execution_count": 14,
   "metadata": {},
   "outputs": [
    {
     "data": {
      "text/plain": [
       "'Welcome to the Sample Page'"
      ]
     },
     "execution_count": 14,
     "metadata": {},
     "output_type": "execute_result"
    }
   ],
   "source": [
    "soup.find(id='main-title').text"
   ]
  },
  {
   "cell_type": "code",
   "execution_count": 15,
   "metadata": {},
   "outputs": [
    {
     "data": {
      "text/plain": [
       "<div class=\"content\">\n",
       "<p class=\"description\">This is a simple HTML page for Selenium testing.</p>\n",
       "<ul>\n",
       "<li class=\"item\">Item 1</li>\n",
       "<li class=\"item\">Item 2</li>\n",
       "<li class=\"item\">Item 3</li>\n",
       "</ul>\n",
       "</div>"
      ]
     },
     "execution_count": 15,
     "metadata": {},
     "output_type": "execute_result"
    }
   ],
   "source": [
    "soup.find(class_='content')"
   ]
  },
  {
   "cell_type": "code",
   "execution_count": 16,
   "metadata": {},
   "outputs": [
    {
     "name": "stdout",
     "output_type": "stream",
     "text": [
      "Item 1\n",
      "Item 2\n",
      "Item 3\n"
     ]
    }
   ],
   "source": [
    "for li in soup.find_all(class_='item'):\n",
    "    print(li.text)"
   ]
  },
  {
   "cell_type": "markdown",
   "metadata": {},
   "source": [
    "#### 문제: BeautifulSoup을 사용하여 다음을 수행하세요."
   ]
  },
  {
   "cell_type": "code",
   "execution_count": null,
   "metadata": {},
   "outputs": [],
   "source": [
    "from bs4 import BeautifulSoup\n",
    "\n",
    "Html_code = \"\"\"\n",
    "<!DOCTYPE html>\n",
    "<html>\n",
    "<head>\n",
    "    <title>Sample HTML</title>\n",
    "</head>\n",
    "<body>\n",
    "    <h1 id=\"main-title\">Welcome to the Sample Page</h1>\n",
    "    <div class=\"content\">\n",
    "        <p class=\"description\">This is a simple HTML page for Selenium testing.</p>\n",
    "        <ul>\n",
    "            <li class=\"item\">Item 1</li>\n",
    "            <li class=\"item\">Item 2</li>\n",
    "            <li class=\"item\">Item 3</li>\n",
    "        </ul>\n",
    "    </div>\n",
    "    <footer>\n",
    "        <p>Contact us at <a href=\"mailto:example@example.com\">example@example.com</a></p>\n",
    "    </footer>\n",
    "</body>\n",
    "</html>\n",
    "\"\"\"\n",
    "Html_code"
   ]
  },
  {
   "cell_type": "code",
   "execution_count": null,
   "metadata": {},
   "outputs": [],
   "source": [
    "soup = BeautifulSoup(Html_code, \"html.parser\")\n",
    "soup.text"
   ]
  },
  {
   "cell_type": "code",
   "execution_count": null,
   "metadata": {},
   "outputs": [],
   "source": [
    "# 문제1\n",
    "soup.find(id='main-title').text"
   ]
  },
  {
   "cell_type": "code",
   "execution_count": null,
   "metadata": {},
   "outputs": [],
   "source": [
    "# 문제2\n",
    "soup.find(class_='description').text"
   ]
  },
  {
   "cell_type": "code",
   "execution_count": 21,
   "metadata": {},
   "outputs": [
    {
     "data": {
      "text/plain": [
       "'Welcome to the Sample Page'"
      ]
     },
     "execution_count": 21,
     "metadata": {},
     "output_type": "execute_result"
    }
   ],
   "source": [
    "soup.select_one(\"#main-title\").text"
   ]
  },
  {
   "cell_type": "code",
   "execution_count": 22,
   "metadata": {},
   "outputs": [
    {
     "name": "stdout",
     "output_type": "stream",
     "text": [
      "Item 1\n",
      "Item 2\n",
      "Item 3\n"
     ]
    }
   ],
   "source": [
    "# 문제3\n",
    "for item in soup.find_all(class_='item'):\n",
    "    print(item.text)"
   ]
  },
  {
   "cell_type": "code",
   "execution_count": 23,
   "metadata": {},
   "outputs": [
    {
     "name": "stdout",
     "output_type": "stream",
     "text": [
      "Item 1\n",
      "Item 2\n"
     ]
    }
   ],
   "source": [
    "for itme in soup.find_all(class_='item', limit=2):\n",
    "    print(itme.text)"
   ]
  },
  {
   "cell_type": "code",
   "execution_count": 24,
   "metadata": {},
   "outputs": [
    {
     "data": {
      "text/plain": [
       "['Item 1', 'Item 2', 'Item 3']"
      ]
     },
     "execution_count": 24,
     "metadata": {},
     "output_type": "execute_result"
    }
   ],
   "source": [
    "[item.text for item in soup.find_all(class_='item')]"
   ]
  },
  {
   "cell_type": "code",
   "execution_count": 25,
   "metadata": {},
   "outputs": [
    {
     "data": {
      "text/plain": [
       "'example@example.com'"
      ]
     },
     "execution_count": 25,
     "metadata": {},
     "output_type": "execute_result"
    }
   ],
   "source": [
    "# 문제 4\n",
    "soup.find('a', href=\"mailto:example@example.com\").text"
   ]
  },
  {
   "cell_type": "code",
   "execution_count": null,
   "metadata": {},
   "outputs": [],
   "source": [
    "# selenium 설치\n",
    "%pip install selenium"
   ]
  },
  {
   "cell_type": "markdown",
   "metadata": {},
   "source": [
    "##### 9. 심화 크롤링 및 프로젝트"
   ]
  },
  {
   "cell_type": "code",
   "execution_count": 27,
   "metadata": {},
   "outputs": [],
   "source": [
    "from selenium import webdriver\n",
    "from selenium.webdriver.common.by import By\n",
    "from bs4 import BeautifulSoup\n",
    "\n",
    "# chrome driver 설정\n",
    "driver = webdriver.Chrome()"
   ]
  },
  {
   "cell_type": "code",
   "execution_count": 28,
   "metadata": {},
   "outputs": [],
   "source": [
    "# URL 열기\n",
    "url = 'https://booking.naver.com/booking/12/bizes/181387/items/2870248'\n",
    "driver.get(url)\n",
    "# 페이지 로딩 대기 (필요 시)\n",
    "driver.implicitly_wait(10)  # 최대 10초 대기"
   ]
  },
  {
   "cell_type": "code",
   "execution_count": 29,
   "metadata": {},
   "outputs": [
    {
     "data": {
      "text/plain": [
       "30"
      ]
     },
     "execution_count": 29,
     "metadata": {},
     "output_type": "execute_result"
    }
   ],
   "source": [
    "# 날짜 버튼들 찾기\n",
    "calendar_dates = driver.find_elements(By.CSS_SELECTOR, 'a.calendar-date')\n",
    "len(calendar_dates)"
   ]
  },
  {
   "cell_type": "code",
   "execution_count": null,
   "metadata": {},
   "outputs": [],
   "source": [
    "date_button = calendar_dates[12]  # calender_dates의 11+1 번째의 날짜를 선택함\n",
    "date_button"
   ]
  },
  {
   "cell_type": "code",
   "execution_count": 31,
   "metadata": {},
   "outputs": [],
   "source": [
    "date_button.click()"
   ]
  },
  {
   "cell_type": "markdown",
   "metadata": {},
   "source": [
    "예약 시간대 정보를 저장할 빈 리스트를 초기화합니다."
   ]
  },
  {
   "cell_type": "code",
   "execution_count": 32,
   "metadata": {},
   "outputs": [
    {
     "name": "stdout",
     "output_type": "stream",
     "text": [
      "오류 발생: 'NoneType' object is not iterable\n",
      "오류 발생: Message: element click intercepted: Element <a class=\"calendar-date\" role=\"button\" aria-disabled=\"true\" tabindex=\"-1\" aria-current=\"false\">...</a> is not clickable at point (222, 588). Other element would receive the click: <div class=\"toast_area bottom_init show bottom\">...</div>\n",
      "  (Session info: chrome=125.0.6422.176)\n",
      "Stacktrace:\n",
      "\tGetHandleVerifier [0x00007FF788341F52+60322]\n",
      "\t(No symbol) [0x00007FF7882BCEC9]\n",
      "\t(No symbol) [0x00007FF788177EBA]\n",
      "\t(No symbol) [0x00007FF7881CF32E]\n",
      "\t(No symbol) [0x00007FF7881CCCF2]\n",
      "\t(No symbol) [0x00007FF7881CA18B]\n",
      "\t(No symbol) [0x00007FF7881C9356]\n",
      "\t(No symbol) [0x00007FF7881BB491]\n",
      "\t(No symbol) [0x00007FF7881EC21A]\n",
      "\t(No symbol) [0x00007FF7881BADB6]\n",
      "\t(No symbol) [0x00007FF7881EC430]\n",
      "\t(No symbol) [0x00007FF78820BC80]\n",
      "\t(No symbol) [0x00007FF7881EBFC3]\n",
      "\t(No symbol) [0x00007FF7881B9617]\n",
      "\t(No symbol) [0x00007FF7881BA211]\n",
      "\tGetHandleVerifier [0x00007FF7886594AD+3301629]\n",
      "\tGetHandleVerifier [0x00007FF7886A36D3+3605283]\n",
      "\tGetHandleVerifier [0x00007FF788699450+3563680]\n",
      "\tGetHandleVerifier [0x00007FF7883F4326+790390]\n",
      "\t(No symbol) [0x00007FF7882C750F]\n",
      "\t(No symbol) [0x00007FF7882C3404]\n",
      "\t(No symbol) [0x00007FF7882C3592]\n",
      "\t(No symbol) [0x00007FF7882B2F9F]\n",
      "\tBaseThreadInitThunk [0x00007FFB405C7614+20]\n",
      "\tRtlUserThreadStart [0x00007FFB425A26A1+33]\n",
      "\n",
      "오류 발생: 'NoneType' object is not iterable\n",
      "오류 발생: 'NoneType' object is not iterable\n",
      "오류 발생: Message: element click intercepted: Element <a class=\"calendar-date\" role=\"button\" aria-disabled=\"true\" tabindex=\"-1\" aria-current=\"false\">...</a> is not clickable at point (515, 588). Other element would receive the click: <div class=\"toast_area bottom_init show bottom\">...</div>\n",
      "  (Session info: chrome=125.0.6422.176)\n",
      "Stacktrace:\n",
      "\tGetHandleVerifier [0x00007FF788341F52+60322]\n",
      "\t(No symbol) [0x00007FF7882BCEC9]\n",
      "\t(No symbol) [0x00007FF788177EBA]\n",
      "\t(No symbol) [0x00007FF7881CF32E]\n",
      "\t(No symbol) [0x00007FF7881CCCF2]\n",
      "\t(No symbol) [0x00007FF7881CA18B]\n",
      "\t(No symbol) [0x00007FF7881C9356]\n",
      "\t(No symbol) [0x00007FF7881BB491]\n",
      "\t(No symbol) [0x00007FF7881EC21A]\n",
      "\t(No symbol) [0x00007FF7881BADB6]\n",
      "\t(No symbol) [0x00007FF7881EC430]\n",
      "\t(No symbol) [0x00007FF78820BC80]\n",
      "\t(No symbol) [0x00007FF7881EBFC3]\n",
      "\t(No symbol) [0x00007FF7881B9617]\n",
      "\t(No symbol) [0x00007FF7881BA211]\n",
      "\tGetHandleVerifier [0x00007FF7886594AD+3301629]\n",
      "\tGetHandleVerifier [0x00007FF7886A36D3+3605283]\n",
      "\tGetHandleVerifier [0x00007FF788699450+3563680]\n",
      "\tGetHandleVerifier [0x00007FF7883F4326+790390]\n",
      "\t(No symbol) [0x00007FF7882C750F]\n",
      "\t(No symbol) [0x00007FF7882C3404]\n",
      "\t(No symbol) [0x00007FF7882C3592]\n",
      "\t(No symbol) [0x00007FF7882B2F9F]\n",
      "\tBaseThreadInitThunk [0x00007FFB405C7614+20]\n",
      "\tRtlUserThreadStart [0x00007FFB425A26A1+33]\n",
      "\n",
      "오류 발생: 'NoneType' object is not iterable\n",
      "오류 발생: 'NoneType' object is not iterable\n",
      "오류 발생: Message: element click intercepted: Element <a class=\"calendar-date\" role=\"button\" aria-disabled=\"true\" tabindex=\"-1\" aria-current=\"false\">...</a> is not clickable at point (807, 588). Other element would receive the click: <div class=\"toast_area bottom_init show bottom\">...</div>\n",
      "  (Session info: chrome=125.0.6422.176)\n",
      "Stacktrace:\n",
      "\tGetHandleVerifier [0x00007FF788341F52+60322]\n",
      "\t(No symbol) [0x00007FF7882BCEC9]\n",
      "\t(No symbol) [0x00007FF788177EBA]\n",
      "\t(No symbol) [0x00007FF7881CF32E]\n",
      "\t(No symbol) [0x00007FF7881CCCF2]\n",
      "\t(No symbol) [0x00007FF7881CA18B]\n",
      "\t(No symbol) [0x00007FF7881C9356]\n",
      "\t(No symbol) [0x00007FF7881BB491]\n",
      "\t(No symbol) [0x00007FF7881EC21A]\n",
      "\t(No symbol) [0x00007FF7881BADB6]\n",
      "\t(No symbol) [0x00007FF7881EC430]\n",
      "\t(No symbol) [0x00007FF78820BC80]\n",
      "\t(No symbol) [0x00007FF7881EBFC3]\n",
      "\t(No symbol) [0x00007FF7881B9617]\n",
      "\t(No symbol) [0x00007FF7881BA211]\n",
      "\tGetHandleVerifier [0x00007FF7886594AD+3301629]\n",
      "\tGetHandleVerifier [0x00007FF7886A36D3+3605283]\n",
      "\tGetHandleVerifier [0x00007FF788699450+3563680]\n",
      "\tGetHandleVerifier [0x00007FF7883F4326+790390]\n",
      "\t(No symbol) [0x00007FF7882C750F]\n",
      "\t(No symbol) [0x00007FF7882C3404]\n",
      "\t(No symbol) [0x00007FF7882C3592]\n",
      "\t(No symbol) [0x00007FF7882B2F9F]\n",
      "\tBaseThreadInitThunk [0x00007FFB405C7614+20]\n",
      "\tRtlUserThreadStart [0x00007FFB425A26A1+33]\n",
      "\n",
      "오류 발생: Message: element click intercepted: Element <a class=\"calendar-date\" role=\"button\" aria-disabled=\"true\" tabindex=\"-1\" aria-current=\"false\">...</a> is not clickable at point (222, 636). Other element would receive the click: <div class=\"toast_area bottom_init bottom\">...</div>\n",
      "  (Session info: chrome=125.0.6422.176)\n",
      "Stacktrace:\n",
      "\tGetHandleVerifier [0x00007FF788341F52+60322]\n",
      "\t(No symbol) [0x00007FF7882BCEC9]\n",
      "\t(No symbol) [0x00007FF788177EBA]\n",
      "\t(No symbol) [0x00007FF7881CF32E]\n",
      "\t(No symbol) [0x00007FF7881CCCF2]\n",
      "\t(No symbol) [0x00007FF7881CA18B]\n",
      "\t(No symbol) [0x00007FF7881C9356]\n",
      "\t(No symbol) [0x00007FF7881BB491]\n",
      "\t(No symbol) [0x00007FF7881EC21A]\n",
      "\t(No symbol) [0x00007FF7881BADB6]\n",
      "\t(No symbol) [0x00007FF7881EC430]\n",
      "\t(No symbol) [0x00007FF78820BC80]\n",
      "\t(No symbol) [0x00007FF7881EBFC3]\n",
      "\t(No symbol) [0x00007FF7881B9617]\n",
      "\t(No symbol) [0x00007FF7881BA211]\n",
      "\tGetHandleVerifier [0x00007FF7886594AD+3301629]\n",
      "\tGetHandleVerifier [0x00007FF7886A36D3+3605283]\n",
      "\tGetHandleVerifier [0x00007FF788699450+3563680]\n",
      "\tGetHandleVerifier [0x00007FF7883F4326+790390]\n",
      "\t(No symbol) [0x00007FF7882C750F]\n",
      "\t(No symbol) [0x00007FF7882C3404]\n",
      "\t(No symbol) [0x00007FF7882C3592]\n",
      "\t(No symbol) [0x00007FF7882B2F9F]\n",
      "\tBaseThreadInitThunk [0x00007FFB405C7614+20]\n",
      "\tRtlUserThreadStart [0x00007FFB425A26A1+33]\n",
      "\n",
      "오류 발생: 'NoneType' object is not iterable\n",
      "오류 발생: 'NoneType' object is not iterable\n",
      "오류 발생: Message: element click intercepted: Element <a class=\"calendar-date\" role=\"button\" aria-disabled=\"true\" tabindex=\"-1\" aria-current=\"false\">...</a> is not clickable at point (515, 636). Other element would receive the click: <div class=\"inner_area\">...</div>\n",
      "  (Session info: chrome=125.0.6422.176)\n",
      "Stacktrace:\n",
      "\tGetHandleVerifier [0x00007FF788341F52+60322]\n",
      "\t(No symbol) [0x00007FF7882BCEC9]\n",
      "\t(No symbol) [0x00007FF788177EBA]\n",
      "\t(No symbol) [0x00007FF7881CF32E]\n",
      "\t(No symbol) [0x00007FF7881CCCF2]\n",
      "\t(No symbol) [0x00007FF7881CA18B]\n",
      "\t(No symbol) [0x00007FF7881C9356]\n",
      "\t(No symbol) [0x00007FF7881BB491]\n",
      "\t(No symbol) [0x00007FF7881EC21A]\n",
      "\t(No symbol) [0x00007FF7881BADB6]\n",
      "\t(No symbol) [0x00007FF7881EC430]\n",
      "\t(No symbol) [0x00007FF78820BC80]\n",
      "\t(No symbol) [0x00007FF7881EBFC3]\n",
      "\t(No symbol) [0x00007FF7881B9617]\n",
      "\t(No symbol) [0x00007FF7881BA211]\n",
      "\tGetHandleVerifier [0x00007FF7886594AD+3301629]\n",
      "\tGetHandleVerifier [0x00007FF7886A36D3+3605283]\n",
      "\tGetHandleVerifier [0x00007FF788699450+3563680]\n",
      "\tGetHandleVerifier [0x00007FF7883F4326+790390]\n",
      "\t(No symbol) [0x00007FF7882C750F]\n",
      "\t(No symbol) [0x00007FF7882C3404]\n",
      "\t(No symbol) [0x00007FF7882C3592]\n",
      "\t(No symbol) [0x00007FF7882B2F9F]\n",
      "\tBaseThreadInitThunk [0x00007FFB405C7614+20]\n",
      "\tRtlUserThreadStart [0x00007FFB425A26A1+33]\n",
      "\n",
      "오류 발생: 'NoneType' object is not iterable\n",
      "오류 발생: 'NoneType' object is not iterable\n",
      "오류 발생: Message: element click intercepted: Element <a class=\"calendar-date\" role=\"button\" aria-disabled=\"true\" tabindex=\"-1\" aria-current=\"false\">...</a> is not clickable at point (807, 636). Other element would receive the click: <div class=\"toast_area bottom_init show bottom\">...</div>\n",
      "  (Session info: chrome=125.0.6422.176)\n",
      "Stacktrace:\n",
      "\tGetHandleVerifier [0x00007FF788341F52+60322]\n",
      "\t(No symbol) [0x00007FF7882BCEC9]\n",
      "\t(No symbol) [0x00007FF788177EBA]\n",
      "\t(No symbol) [0x00007FF7881CF32E]\n",
      "\t(No symbol) [0x00007FF7881CCCF2]\n",
      "\t(No symbol) [0x00007FF7881CA18B]\n",
      "\t(No symbol) [0x00007FF7881C9356]\n",
      "\t(No symbol) [0x00007FF7881BB491]\n",
      "\t(No symbol) [0x00007FF7881EC21A]\n",
      "\t(No symbol) [0x00007FF7881BADB6]\n",
      "\t(No symbol) [0x00007FF7881EC430]\n",
      "\t(No symbol) [0x00007FF78820BC80]\n",
      "\t(No symbol) [0x00007FF7881EBFC3]\n",
      "\t(No symbol) [0x00007FF7881B9617]\n",
      "\t(No symbol) [0x00007FF7881BA211]\n",
      "\tGetHandleVerifier [0x00007FF7886594AD+3301629]\n",
      "\tGetHandleVerifier [0x00007FF7886A36D3+3605283]\n",
      "\tGetHandleVerifier [0x00007FF788699450+3563680]\n",
      "\tGetHandleVerifier [0x00007FF7883F4326+790390]\n",
      "\t(No symbol) [0x00007FF7882C750F]\n",
      "\t(No symbol) [0x00007FF7882C3404]\n",
      "\t(No symbol) [0x00007FF7882C3592]\n",
      "\t(No symbol) [0x00007FF7882B2F9F]\n",
      "\tBaseThreadInitThunk [0x00007FFB405C7614+20]\n",
      "\tRtlUserThreadStart [0x00007FFB425A26A1+33]\n",
      "\n",
      "오류 발생: 'NoneType' object is not iterable\n",
      "오류 발생: 'NoneType' object is not iterable\n",
      "오류 발생: Message: element click intercepted: Element <a class=\"calendar-date\" role=\"button\" aria-disabled=\"false\" tabindex=\"0\" aria-current=\"false\">...</a> is not clickable at point (417, 636). Other element would receive the click: <div class=\"inner_area\">...</div>\n",
      "  (Session info: chrome=125.0.6422.176)\n",
      "Stacktrace:\n",
      "\tGetHandleVerifier [0x00007FF788341F52+60322]\n",
      "\t(No symbol) [0x00007FF7882BCEC9]\n",
      "\t(No symbol) [0x00007FF788177EBA]\n",
      "\t(No symbol) [0x00007FF7881CF32E]\n",
      "\t(No symbol) [0x00007FF7881CCCF2]\n",
      "\t(No symbol) [0x00007FF7881CA18B]\n",
      "\t(No symbol) [0x00007FF7881C9356]\n",
      "\t(No symbol) [0x00007FF7881BB491]\n",
      "\t(No symbol) [0x00007FF7881EC21A]\n",
      "\t(No symbol) [0x00007FF7881BADB6]\n",
      "\t(No symbol) [0x00007FF7881EC430]\n",
      "\t(No symbol) [0x00007FF78820BC80]\n",
      "\t(No symbol) [0x00007FF7881EBFC3]\n",
      "\t(No symbol) [0x00007FF7881B9617]\n",
      "\t(No symbol) [0x00007FF7881BA211]\n",
      "\tGetHandleVerifier [0x00007FF7886594AD+3301629]\n",
      "\tGetHandleVerifier [0x00007FF7886A36D3+3605283]\n",
      "\tGetHandleVerifier [0x00007FF788699450+3563680]\n",
      "\tGetHandleVerifier [0x00007FF7883F4326+790390]\n",
      "\t(No symbol) [0x00007FF7882C750F]\n",
      "\t(No symbol) [0x00007FF7882C3404]\n",
      "\t(No symbol) [0x00007FF7882C3592]\n",
      "\t(No symbol) [0x00007FF7882B2F9F]\n",
      "\tBaseThreadInitThunk [0x00007FFB405C7614+20]\n",
      "\tRtlUserThreadStart [0x00007FFB425A26A1+33]\n",
      "\n",
      "6일 19일, 오후 3:001매, 1매\n",
      "6일 20일, 오후 7:001매, 1매\n",
      "6일 27일, 오후 5:002매, 2매\n"
     ]
    }
   ],
   "source": [
    "import time\n",
    "for i, date_button in enumerate(calendar_dates):\n",
    "    try:\n",
    "        # 날짜 버튼 클릭\n",
    "        date_button.click()\n",
    "\n",
    "        # 페이지 로드 시간 대기 (필요 시 조정)\n",
    "        # driver.implicitly_wait(2)  # 페이지 로드 시간 대기\n",
    "        time.sleep(2)\n",
    "        html_code = driver.page_source\n",
    "        soup = BeautifulSoup(html_code, 'html.parser')\n",
    "        list_times = soup.find(class_='list_time')\n",
    "        for list_time in list_times:\n",
    "            list_time_text = list_time.find(class_='box_info_wrap').text\n",
    "            sold_info = list_time_text[-2:]\n",
    "            if sold_info[-1] == '매':\n",
    "                day = i + 1\n",
    "                hour = list_time_text.split(',')[0]\n",
    "                print(f'6일 {i+1}일, {hour}, {sold_info}')\n",
    "\n",
    "    except Exception as e:   # 오류 발생 이유도 같이 출력됨\n",
    "        print(f\"오류 발생: {e}\")  "
   ]
  }
 ],
 "metadata": {
  "kernelspec": {
   "display_name": ".venv",
   "language": "python",
   "name": "python3"
  },
  "language_info": {
   "codemirror_mode": {
    "name": "ipython",
    "version": 3
   },
   "file_extension": ".py",
   "mimetype": "text/x-python",
   "name": "python",
   "nbconvert_exporter": "python",
   "pygments_lexer": "ipython3",
   "version": "3.12.3"
  }
 },
 "nbformat": 4,
 "nbformat_minor": 2
}
