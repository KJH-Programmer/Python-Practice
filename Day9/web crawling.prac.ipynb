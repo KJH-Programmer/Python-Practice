{
 "cells": [
  {
   "cell_type": "markdown",
   "metadata": {},
   "source": [
    "##### 크롤링 실습"
   ]
  },
  {
   "cell_type": "code",
   "execution_count": 20,
   "metadata": {},
   "outputs": [],
   "source": [
    "from selenium import webdriver\n",
    "from selenium.webdriver.common.by import By\n",
    "from bs4 import BeautifulSoup\n",
    "\n",
    "# chrome driver 설정\n",
    "driver = webdriver.Chrome()"
   ]
  },
  {
   "cell_type": "code",
   "execution_count": 21,
   "metadata": {},
   "outputs": [],
   "source": [
    "# URL 열기\n",
    "url = 'https://search.naver.com/search.naver?where=nexearch&sm=top_hty&fbm=0&ie=utf8&query=%EB%8B%B4%EC%96%91%EC%B9%B4%ED%8E%98'\n",
    "driver.get(url)\n",
    "# 페이지 로딩 대기 (필요 시)\n",
    "driver.implicitly_wait(10)  # 최대 10초 대기"
   ]
  },
  {
   "cell_type": "code",
   "execution_count": 23,
   "metadata": {},
   "outputs": [],
   "source": [
    "# html 페이지 가져옴\n",
    "html_code = driver.page_source"
   ]
  },
  {
   "cell_type": "code",
   "execution_count": 25,
   "metadata": {},
   "outputs": [],
   "source": [
    "soup = BeautifulSoup(html_code, 'html.parser')"
   ]
  },
  {
   "cell_type": "code",
   "execution_count": 26,
   "metadata": {},
   "outputs": [
    {
     "name": "stdout",
     "output_type": "stream",
     "text": [
      "담순로153\n",
      "센티드커피로스터스\n",
      "에트글라스\n",
      "미각&담양양갱\n",
      "오프투데이\n",
      "까망감\n",
      "밀밀\n",
      "옥담\n"
     ]
    }
   ],
   "source": [
    "for title in soup.find_all(class_=\"place_bluelink TYaxT\"):\n",
    "    print(title.text)"
   ]
  },
  {
   "cell_type": "code",
   "execution_count": 27,
   "metadata": {},
   "outputs": [],
   "source": [
    "from selenium import webdriver\n",
    "from selenium.webdriver.common.by import By\n",
    "from bs4 import BeautifulSoup\n",
    "\n",
    "# chrome driver 설정\n",
    "driver = webdriver.Chrome()"
   ]
  },
  {
   "cell_type": "code",
   "execution_count": 28,
   "metadata": {},
   "outputs": [],
   "source": [
    "# URL 열기\n",
    "url = 'https://booking.naver.com/booking/13/bizes/557500/items/4023978'\n",
    "driver.get(url)\n",
    "# 페이지 로딩 대기 (필요 시)\n",
    "driver.implicitly_wait(10)  # 최대 10초 대기"
   ]
  },
  {
   "cell_type": "code",
   "execution_count": null,
   "metadata": {},
   "outputs": [],
   "source": [
    "driver.page_source"
   ]
  },
  {
   "cell_type": "code",
   "execution_count": 30,
   "metadata": {},
   "outputs": [
    {
     "data": {
      "text/plain": [
       "42"
      ]
     },
     "execution_count": 30,
     "metadata": {},
     "output_type": "execute_result"
    }
   ],
   "source": [
    "calender_dates = driver.find_elements(By.CSS_SELECTOR, 'button.calendar_date')\n",
    "len(calender_dates)"
   ]
  },
  {
   "cell_type": "code",
   "execution_count": 31,
   "metadata": {},
   "outputs": [],
   "source": [
    "import time"
   ]
  },
  {
   "cell_type": "code",
   "execution_count": 32,
   "metadata": {},
   "outputs": [
    {
     "data": {
      "text/plain": [
       "42"
      ]
     },
     "execution_count": 32,
     "metadata": {},
     "output_type": "execute_result"
    }
   ],
   "source": [
    "calender_dates = driver.find_elements(By.CSS_SELECTOR, 'button.calendar_date')\n",
    "len(calender_dates)"
   ]
  },
  {
   "cell_type": "code",
   "execution_count": 33,
   "metadata": {},
   "outputs": [],
   "source": [
    "# for i, calender_date in enumerate(calender_dates[17:19]):\n",
    "#     try:\n",
    "#         calender_date.click()\n",
    "#         #time.sleep(1)\n",
    "#         for btn_time in driver.find_elements(By.CSS_SELECTOR, \"button.btn_time\"):\n",
    "#             btn_time.click()\n",
    "#             driver.page_source\n",
    "#             time.sleep(1)           \n",
    "#     except Exception as e:\n",
    "#         print(f'error ocuured: {e=}')\n",
    "\n",
    "# ## 날짜별로 그 시간대"
   ]
  },
  {
   "cell_type": "code",
   "execution_count": 34,
   "metadata": {},
   "outputs": [],
   "source": [
    "from selenium.webdriver.common.by import By\n",
    "import time\n",
    "\n",
    "for i, calender_date in enumerate(calender_dates[17:19]):\n",
    "    try:\n",
    "        calender_date.click()\n",
    "        for btn_time in driver.find_elements(By.CSS_SELECTOR, \"button.btn_time\"):\n",
    "            time.sleep(1)  # 페이지 로딩 시간 대기\n",
    "            btn_time.click()\n",
    "        \n",
    "        btn_times = driver.find_elements(By.CSS_SELECTOR, \"button.btn_time\")\n",
    "        \n",
    "        for btn_time in btn_times:\n",
    "            btn_time_text = btn_time.text\n",
    "            if not btn_time.is_enabled():\n",
    "                hour = btn_time_text.split(',')[0]\n",
    "                print(f'{i+11+1}일, {hour}, 예약 불가능')\n",
    "            else:\n",
    "                hour = btn_time_text.split(',')[0]\n",
    "                print(f'{i+11+1}일, {hour}, 예약 가능')\n",
    "    except Exception as e:\n",
    "        print(f'에러 발생: {e}')"
   ]
  }
 ],
 "metadata": {
  "kernelspec": {
   "display_name": ".venv",
   "language": "python",
   "name": "python3"
  },
  "language_info": {
   "codemirror_mode": {
    "name": "ipython",
    "version": 3
   },
   "file_extension": ".py",
   "mimetype": "text/x-python",
   "name": "python",
   "nbconvert_exporter": "python",
   "pygments_lexer": "ipython3",
   "version": "3.12.3"
  }
 },
 "nbformat": 4,
 "nbformat_minor": 2
}
